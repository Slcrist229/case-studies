{
  "nbformat": 4,
  "nbformat_minor": 0,
  "metadata": {
    "kernelspec": {
      "name": "python3",
      "display_name": "Python 3"
    },
    "language_info": {
      "name": "python"
    },
    "colab": {
      "provenance": [],
      "include_colab_link": true
    }
  },
  "cells": [
    {
      "cell_type": "markdown",
      "metadata": {
        "id": "view-in-github",
        "colab_type": "text"
      },
      "source": [
        "<a href=\"https://colab.research.google.com/github/Slcrist229/case-studies/blob/main/top_10_JIM_BEAM_(1).ipynb\" target=\"_parent\"><img src=\"https://colab.research.google.com/assets/colab-badge.svg\" alt=\"Open In Colab\"/></a>"
      ]
    },
    {
      "cell_type": "markdown",
      "source": [
        "This is a notebook of a case study I did in BigQuery as a new data analyst in order to practice my SQL skills. I used BigQuery Canvas and Colab for the first time on this project. I opted to use the public dataset on Iowa liquor sales. The objective I gave myself was to find the top 10 stores that sold the most Jim Beam products. The imagined client of mine, was Jim Beam. And the imagined goal was to find the highest producing stores in Iowa in order to test a new promotion on a new flavored whiskey product."
      ],
      "metadata": {
        "id": "VficBrKHTzEw"
      }
    },
    {
      "cell_type": "code",
      "execution_count": null,
      "metadata": {
        "id": "xSOfkT00SLXZ"
      },
      "outputs": [],
      "source": [
        "# @title Inspect the schema of peppy-avatar-442117-g5.iowa_liquor_sales.iowa_liq_4\n",
        "from google.cloud import bigquery\n",
        "\n",
        "# Construct a BigQuery client object.\n",
        "client = bigquery.Client()\n",
        "\n",
        "# Fetch the table\n",
        "table = client.get_table('peppy-avatar-442117-g5.iowa_liquor_sales.iowa_liq_4')\n",
        "\n",
        "# View table info\n",
        "print(\"{} rows\".format(table.num_rows))\n",
        "for row in table.schema:\n",
        "  print(\"Column {}: {}\".format(row.name, row.field_type))\n"
      ]
    },
    {
      "cell_type": "markdown",
      "source": [
        "After reviewing the Iowa liquor sales table in the public datasets, I downloaded only the most pertinent data columns into a new table which I used in all of my queries therafter. I then inspected the first 200 rows of each column to notice any errors or inconsistencies. I saw that the dates of sales ranged quite a bit. I queried the table to see the complete range of the dates."
      ],
      "metadata": {
        "id": "SAKALpEKVNMf"
      }
    },
    {
      "cell_type": "code",
      "execution_count": null,
      "metadata": {
        "id": "9-DCqMRESLXZ"
      },
      "outputs": [],
      "source": [
        "\n",
        "# @title Executes the query, using client from previous cell\n",
        "sql_finding_years of data collected = '''#  find out the first date and the last date of the date column to see if I need all this data or I can filter out to the last few years of data.\n",
        "\n",
        "SELECT\n",
        "  MIN(date) AS first_date,\n",
        "  MAX(date) AS last_date\n",
        "FROM\n",
        "  `peppy-avatar-442117-g5`.`iowa_liquor_sales`.`iowa_liq_2`;'''\n",
        "query_finding_years of data collected = client.query(sql_finding_years of data collected)\n",
        "\n",
        "# store the destination to reference in future cells\n",
        "query_destination_finding_years of data collected = query_finding_years of data collected.destination.project + '.' + query_finding_years of data collected.destination.dataset_id + '.' + query_finding_years of data collected.destination.table_id\n",
        "\n",
        "#  Render the query results\n",
        "job_finding_years of data collected= client.get_job(query_finding_years of data collected.job_id)\n",
        "df_finding_years of data collected = job_finding_years of data collected.to_dataframe()\n",
        "df_finding_years of data collected\n"
      ]
    },
    {
      "cell_type": "markdown",
      "source": [
        "The date range was beyond the desired 5 years. I needed to filter out the years that were not applicable to the client's desires."
      ],
      "metadata": {
        "id": "6QVaKZKag4nS"
      }
    },
    {
      "cell_type": "code",
      "execution_count": null,
      "metadata": {
        "id": "TPbDVMJGSLXZ"
      },
      "outputs": [],
      "source": [
        "\n",
        "# @title Executes the query, using client from previous cell\n",
        "sql_Filtering_dates = '''#filter out only dates with years between 2020 and 2025 , because we only need to analyze 5 years worth of sales for Jim Beam.\n",
        "\n",
        "SELECT\n",
        "  *\n",
        "FROM\n",
        "  `peppy-avatar-442117-g5`.`iowa_liquor_sales`.`iowa_liq_2`\n",
        "WHERE\n",
        "  EXTRACT(YEAR\n",
        "  FROM\n",
        "    date) BETWEEN 2020\n",
        "  AND 2025;'''\n",
        "query_Filtering_dates = client.query(sql_Filtering_dates)\n",
        "\n",
        "# store the destination to reference in future cells\n",
        "query_destination_Filtering_dates = query_Filtering_dates.destination.project + '.' + query_Filtering_dates.destination.dataset_id + '.' + query_Filtering_dates.destination.table_id\n",
        "\n",
        "#  Render the query results\n",
        "job_Filtering_dates= client.get_job(query_Filtering_dates.job_id)\n",
        "df_Filtering_dates = job_Filtering_dates.to_dataframe()\n",
        "df_Filtering_dates\n"
      ]
    },
    {
      "cell_type": "markdown",
      "source": [
        "After filtering the dates, I continued reviewing the data in each column. I noticed that there were some zipcodes that did not fit the common zipcode format. So I corrected this problem by taking off the decimal points included in some zipcodes."
      ],
      "metadata": {
        "id": "IG6ZX_y5ZJSa"
      }
    },
    {
      "cell_type": "code",
      "execution_count": null,
      "metadata": {
        "id": "h517K0m5SLXZ"
      },
      "outputs": [],
      "source": [
        "# @title Setup bigquery client and formatting\n",
        "from google.cloud import bigquery\n",
        "from google.colab import data_table\n",
        "\n",
        "project = 'peppy-avatar-442117-g5' # Project ID\n",
        "client = bigquery.Client(project=project)\n",
        "data_table.enable_dataframe_formatter()\n",
        "# @title Executes the query, using client from previous cell\n",
        "sql_fixing_zipcode = '''# limit zipcode column to 5 characters only while keeping other columns\n",
        "\n",
        "SELECT\n",
        "  invoice_and_item_number,\n",
        "  date,\n",
        "  store_number,\n",
        "  store_name,\n",
        "  store_location,\n",
        "  city,\n",
        "  SUBSTR(zip_code, 1, 5) AS zip_code_5,\n",
        "  store_location_1,\n",
        "  county,\n",
        "  category_name,\n",
        "  vendor_name,\n",
        "  item_description,\n",
        "  pack,\n",
        "  sale_dollars\n",
        "FROM\n",
        "  `peppy-avatar-442117-g5`.`iowa_liquor_sales`.`iowa_liq_4`\n",
        "'''\n",
        "query_fixing_zipcode = client.query(sql_fixing_zipcode)\n",
        "\n",
        "# store the destination to reference in future cells\n",
        "query_destination_fixing_zipcode = query_fixing_zipcode.destination.project + '.' + query_fixing_zipcode.destination.dataset_id + '.' + query_fixing_zipcode.destination.table_id\n",
        "\n",
        "#  Render the query results\n",
        "job_fixing_zipcode= client.get_job(query_fixing_zipcode.job_id)\n",
        "df_fixing_zipcode = job_fixing_zipcode.to_dataframe()\n",
        "df_fixing_zipcode\n"
      ]
    },
    {
      "cell_type": "markdown",
      "source": [
        "After fixing the zipcodes, I reviewed all other data columns and considered them satifactory. I needed no additional \"cleaning\" to be done. I then filtered the table to only include Jim Bean sales and no other vendors."
      ],
      "metadata": {
        "id": "NCWW9T75WXgh"
      }
    },
    {
      "cell_type": "code",
      "execution_count": null,
      "metadata": {
        "id": "24C41KDTSLXZ"
      },
      "outputs": [],
      "source": [
        "\n",
        "# @title Executes the query, using client from previous cell\n",
        "sql_filtering_Jim Beam = '''# Filter the vendor name column to only JIM BEAM BRANDS\n",
        "\n",
        "SELECT\n",
        "  *\n",
        "FROM\n",
        "  `fixing zipcode` AS t1\n",
        "WHERE\n",
        "  t1.vendor_name = 'JIM BEAM BRANDS';'''\n",
        "query_filtering_Jim Beam = client.query(sql_filtering_Jim Beam)\n",
        "\n",
        "# store the destination to reference in future cells\n",
        "query_destination_filtering_Jim Beam = query_filtering_Jim Beam.destination.project + '.' + query_filtering_Jim Beam.destination.dataset_id + '.' + query_filtering_Jim Beam.destination.table_id\n",
        "\n",
        "#  Render the query results\n",
        "job_filtering_Jim Beam= client.get_job(query_filtering_Jim Beam.job_id)\n",
        "df_filtering_Jim Beam = job_filtering_Jim Beam.to_dataframe()\n",
        "df_filtering_Jim Beam\n"
      ]
    },
    {
      "cell_type": "markdown",
      "source": [
        "After obtaining a table with only the Jim Beam sales, I noticed that there were multiple sales recorded for each store. I had to total the sales for each distinct store."
      ],
      "metadata": {
        "id": "5To2wQlrbDiR"
      }
    },
    {
      "cell_type": "code",
      "execution_count": null,
      "metadata": {
        "id": "TFlJ7dMqSLXZ"
      },
      "outputs": [],
      "source": [
        "\n",
        "# @title Executes the query, using client from previous cell\n",
        "sql_total_sales for distinct store number = '''#total sales for each distinct store number\n",
        "\n",
        "SELECT\n",
        "  t1.store_number,\n",
        "  SUM(t1.sale_dollars) AS total_sales\n",
        "FROM\n",
        "  `filtering Jim Beam` AS t1\n",
        "GROUP BY\n",
        "  1;'''\n",
        "query_total_sales for distinct store number = client.query(sql_total_sales for distinct store number)\n",
        "\n",
        "# store the destination to reference in future cells\n",
        "query_destination_total_sales for distinct store number = query_total_sales for distinct store number.destination.project + '.' + query_total_sales for distinct store number.destination.dataset_id + '.' + query_total_sales for distinct store number.destination.table_id\n",
        "\n",
        "#  Render the query results\n",
        "job_total_sales for distinct store number= client.get_job(query_total_sales for distinct store number.job_id)\n",
        "df_total_sales for distinct store number = job_total_sales for distinct store number.to_dataframe()\n",
        "df_total_sales for distinct store number\n"
      ]
    },
    {
      "cell_type": "markdown",
      "source": [
        "I wanted to double check that I got all stores in my sales totals, and that there wasn't any errors. So I ran a count on all the distinct store numbers and compared it to the total sales results. Luckily, it was the same count."
      ],
      "metadata": {
        "id": "nQeghkyTdJ_Y"
      }
    },
    {
      "cell_type": "code",
      "execution_count": null,
      "metadata": {
        "id": "CdgNRumMSLXZ"
      },
      "outputs": [],
      "source": [
        "\n",
        "# @title Executes the query, using client from previous cell\n",
        "sql_Counting_distinct store numbers = '''# How many distinct store numbers are there in this table\n",
        "\n",
        "SELECT\n",
        "  COUNT(DISTINCT store_number)\n",
        "FROM\n",
        "  `filtering Jim Beam`;'''\n",
        "query_Counting_distinct store numbers = client.query(sql_Counting_distinct store numbers)\n",
        "\n",
        "# store the destination to reference in future cells\n",
        "query_destination_Counting_distinct store numbers = query_Counting_distinct store numbers.destination.project + '.' + query_Counting_distinct store numbers.destination.dataset_id + '.' + query_Counting_distinct store numbers.destination.table_id\n",
        "\n",
        "#  Render the query results\n",
        "job_Counting_distinct store numbers= client.get_job(query_Counting_distinct store numbers.job_id)\n",
        "df_Counting_distinct store numbers = job_Counting_distinct store numbers.to_dataframe()\n",
        "df_Counting_distinct store numbers\n"
      ]
    },
    {
      "cell_type": "markdown",
      "source": [
        "I then wanted to create a table that included all of the data columns, including the total sales for each store. So I joined the results of my query on total sales to the table that filtered out the Jim Beam vendor only. The result was a table that included that total sales column with all other data columns."
      ],
      "metadata": {
        "id": "oyzu4jdHdkwi"
      }
    },
    {
      "cell_type": "code",
      "execution_count": null,
      "metadata": {
        "id": "ilAYJi3aSLXZ"
      },
      "outputs": [],
      "source": [
        "\n",
        "# @title Executes the query, using client from previous cell\n",
        "sql_joining_tables in order to get full column table = '''# Joining tables to include total sales per store number\n",
        "\n",
        "SELECT\n",
        "  t1.store_location,\n",
        "  t1.zip_code_5,\n",
        "  t1.vendor_name,\n",
        "  t1.pack,\n",
        "  t1.store_name,\n",
        "  t1.date,\n",
        "  t1.item_description,\n",
        "  t1.city,\n",
        "  t1.category_name,\n",
        "  t1.store_number,\n",
        "  t2.total_sales\n",
        "FROM\n",
        "  `filtering Jim Beam` AS t1\n",
        "INNER JOIN\n",
        "  `total sales for distinct store number` AS t2\n",
        "ON\n",
        "  t1.store_number = t2.store_number;'''\n",
        "query_joining_tables in order to get full column table = client.query(sql_joining_tables in order to get full column table)\n",
        "\n",
        "# store the destination to reference in future cells\n",
        "query_destination_joining_tables in order to get full column table = query_joining_tables in order to get full column table.destination.project + '.' + query_joining_tables in order to get full column table.destination.dataset_id + '.' + query_joining_tables in order to get full column table.destination.table_id\n",
        "\n",
        "#  Render the query results\n",
        "job_joining_tables in order to get full column table= client.get_job(query_joining_tables in order to get full column table.job_id)\n",
        "df_joining_tables in order to get full column table = job_joining_tables in order to get full column table.to_dataframe()\n",
        "df_joining_tables in order to get full column table\n"
      ]
    },
    {
      "cell_type": "markdown",
      "source": [
        "Finally, I used the resulting table to find the top 10 stores from Iowa that sold the most Jim Beam products."
      ],
      "metadata": {
        "id": "KAFneLHsebAI"
      }
    },
    {
      "cell_type": "code",
      "execution_count": null,
      "metadata": {
        "id": "BX2zOaf8SLXZ"
      },
      "outputs": [],
      "source": [
        "\n",
        "# @title Executes the query, using client from previous cell\n",
        "sql_top_10 = '''##getting the top 10 producing stores for Jim Beam\n",
        "\n",
        "SELECT DISTINCT store_number, total_sales,city,store_name, zip_code_5\n",
        "FROM `joining tables in order to get full column table` AS t1\n",
        "ORDER BY total_sales DESC\n",
        "LIMIT 10'''\n",
        "query_top_10 = client.query(sql_top_10)\n",
        "\n",
        "# store the destination to reference in future cells\n",
        "query_destination_top_10 = query_top_10.destination.project + '.' + query_top_10.destination.dataset_id + '.' + query_top_10.destination.table_id\n",
        "\n",
        "#  Render the query results\n",
        "job_top_10= client.get_job(query_top_10.job_id)\n",
        "df_top_10 = job_top_10.to_dataframe()\n",
        "df_top_10\n"
      ]
    },
    {
      "cell_type": "markdown",
      "source": [],
      "metadata": {
        "id": "SPzeJ0ZCaXxo"
      }
    }
  ]
}